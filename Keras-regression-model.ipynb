{
 "cells": [
  {
   "cell_type": "markdown",
   "metadata": {},
   "source": [
    "## Regresion Models wih Keras ##\n",
    "Content:\n",
    "1. Download and clean dataset.\n",
    "2. Use the Keras library to build a regression model.\n",
    "3. Build a Neural network.\n",
    "4. Train and Test the Network."
   ]
  },
  {
   "cell_type": "code",
   "execution_count": 1,
   "metadata": {},
   "outputs": [
    {
     "data": {
      "text/html": [
       "<div>\n",
       "<style scoped>\n",
       "    .dataframe tbody tr th:only-of-type {\n",
       "        vertical-align: middle;\n",
       "    }\n",
       "\n",
       "    .dataframe tbody tr th {\n",
       "        vertical-align: top;\n",
       "    }\n",
       "\n",
       "    .dataframe thead th {\n",
       "        text-align: right;\n",
       "    }\n",
       "</style>\n",
       "<table border=\"1\" class=\"dataframe\">\n",
       "  <thead>\n",
       "    <tr style=\"text-align: right;\">\n",
       "      <th></th>\n",
       "      <th>Cement</th>\n",
       "      <th>Blast Furnace Slag</th>\n",
       "      <th>Fly Ash</th>\n",
       "      <th>Water</th>\n",
       "      <th>Superplasticizer</th>\n",
       "      <th>Coarse Aggregate</th>\n",
       "      <th>Fine Aggregate</th>\n",
       "      <th>Age</th>\n",
       "      <th>Strength</th>\n",
       "    </tr>\n",
       "  </thead>\n",
       "  <tbody>\n",
       "    <tr>\n",
       "      <th>0</th>\n",
       "      <td>540.0</td>\n",
       "      <td>0.0</td>\n",
       "      <td>0.0</td>\n",
       "      <td>162.0</td>\n",
       "      <td>2.5</td>\n",
       "      <td>1040.0</td>\n",
       "      <td>676.0</td>\n",
       "      <td>28</td>\n",
       "      <td>79.99</td>\n",
       "    </tr>\n",
       "    <tr>\n",
       "      <th>1</th>\n",
       "      <td>540.0</td>\n",
       "      <td>0.0</td>\n",
       "      <td>0.0</td>\n",
       "      <td>162.0</td>\n",
       "      <td>2.5</td>\n",
       "      <td>1055.0</td>\n",
       "      <td>676.0</td>\n",
       "      <td>28</td>\n",
       "      <td>61.89</td>\n",
       "    </tr>\n",
       "    <tr>\n",
       "      <th>2</th>\n",
       "      <td>332.5</td>\n",
       "      <td>142.5</td>\n",
       "      <td>0.0</td>\n",
       "      <td>228.0</td>\n",
       "      <td>0.0</td>\n",
       "      <td>932.0</td>\n",
       "      <td>594.0</td>\n",
       "      <td>270</td>\n",
       "      <td>40.27</td>\n",
       "    </tr>\n",
       "    <tr>\n",
       "      <th>3</th>\n",
       "      <td>332.5</td>\n",
       "      <td>142.5</td>\n",
       "      <td>0.0</td>\n",
       "      <td>228.0</td>\n",
       "      <td>0.0</td>\n",
       "      <td>932.0</td>\n",
       "      <td>594.0</td>\n",
       "      <td>365</td>\n",
       "      <td>41.05</td>\n",
       "    </tr>\n",
       "    <tr>\n",
       "      <th>4</th>\n",
       "      <td>198.6</td>\n",
       "      <td>132.4</td>\n",
       "      <td>0.0</td>\n",
       "      <td>192.0</td>\n",
       "      <td>0.0</td>\n",
       "      <td>978.4</td>\n",
       "      <td>825.5</td>\n",
       "      <td>360</td>\n",
       "      <td>44.30</td>\n",
       "    </tr>\n",
       "  </tbody>\n",
       "</table>\n",
       "</div>"
      ],
      "text/plain": [
       "   Cement  Blast Furnace Slag  Fly Ash  Water  Superplasticizer  \\\n",
       "0   540.0                 0.0      0.0  162.0               2.5   \n",
       "1   540.0                 0.0      0.0  162.0               2.5   \n",
       "2   332.5               142.5      0.0  228.0               0.0   \n",
       "3   332.5               142.5      0.0  228.0               0.0   \n",
       "4   198.6               132.4      0.0  192.0               0.0   \n",
       "\n",
       "   Coarse Aggregate  Fine Aggregate  Age  Strength  \n",
       "0            1040.0           676.0   28     79.99  \n",
       "1            1055.0           676.0   28     61.89  \n",
       "2             932.0           594.0  270     40.27  \n",
       "3             932.0           594.0  365     41.05  \n",
       "4             978.4           825.5  360     44.30  "
      ]
     },
     "execution_count": 1,
     "metadata": {},
     "output_type": "execute_result"
    }
   ],
   "source": [
    "import numpy as np\n",
    "import pandas as pd\n",
    "\n",
    "concrete_data = pd.read_csv('https://s3-api.us-geo.objectstorage.softlayer.net/cf-courses-data/CognitiveClass/DL0101EN/labs/data/concrete_data.csv')\n",
    "concrete_data.head()"
   ]
  },
  {
   "cell_type": "code",
   "execution_count": 2,
   "metadata": {},
   "outputs": [
    {
     "data": {
      "text/plain": [
       "(1030, 9)"
      ]
     },
     "execution_count": 2,
     "metadata": {},
     "output_type": "execute_result"
    }
   ],
   "source": [
    "concrete_data.shape"
   ]
  },
  {
   "cell_type": "code",
   "execution_count": 3,
   "metadata": {},
   "outputs": [
    {
     "data": {
      "text/html": [
       "<div>\n",
       "<style scoped>\n",
       "    .dataframe tbody tr th:only-of-type {\n",
       "        vertical-align: middle;\n",
       "    }\n",
       "\n",
       "    .dataframe tbody tr th {\n",
       "        vertical-align: top;\n",
       "    }\n",
       "\n",
       "    .dataframe thead th {\n",
       "        text-align: right;\n",
       "    }\n",
       "</style>\n",
       "<table border=\"1\" class=\"dataframe\">\n",
       "  <thead>\n",
       "    <tr style=\"text-align: right;\">\n",
       "      <th></th>\n",
       "      <th>Cement</th>\n",
       "      <th>Blast Furnace Slag</th>\n",
       "      <th>Fly Ash</th>\n",
       "      <th>Water</th>\n",
       "      <th>Superplasticizer</th>\n",
       "      <th>Coarse Aggregate</th>\n",
       "      <th>Fine Aggregate</th>\n",
       "      <th>Age</th>\n",
       "      <th>Strength</th>\n",
       "    </tr>\n",
       "  </thead>\n",
       "  <tbody>\n",
       "    <tr>\n",
       "      <th>count</th>\n",
       "      <td>1030.000000</td>\n",
       "      <td>1030.000000</td>\n",
       "      <td>1030.000000</td>\n",
       "      <td>1030.000000</td>\n",
       "      <td>1030.000000</td>\n",
       "      <td>1030.000000</td>\n",
       "      <td>1030.000000</td>\n",
       "      <td>1030.000000</td>\n",
       "      <td>1030.000000</td>\n",
       "    </tr>\n",
       "    <tr>\n",
       "      <th>mean</th>\n",
       "      <td>281.167864</td>\n",
       "      <td>73.895825</td>\n",
       "      <td>54.188350</td>\n",
       "      <td>181.567282</td>\n",
       "      <td>6.204660</td>\n",
       "      <td>972.918932</td>\n",
       "      <td>773.580485</td>\n",
       "      <td>45.662136</td>\n",
       "      <td>35.817961</td>\n",
       "    </tr>\n",
       "    <tr>\n",
       "      <th>std</th>\n",
       "      <td>104.506364</td>\n",
       "      <td>86.279342</td>\n",
       "      <td>63.997004</td>\n",
       "      <td>21.354219</td>\n",
       "      <td>5.973841</td>\n",
       "      <td>77.753954</td>\n",
       "      <td>80.175980</td>\n",
       "      <td>63.169912</td>\n",
       "      <td>16.705742</td>\n",
       "    </tr>\n",
       "    <tr>\n",
       "      <th>min</th>\n",
       "      <td>102.000000</td>\n",
       "      <td>0.000000</td>\n",
       "      <td>0.000000</td>\n",
       "      <td>121.800000</td>\n",
       "      <td>0.000000</td>\n",
       "      <td>801.000000</td>\n",
       "      <td>594.000000</td>\n",
       "      <td>1.000000</td>\n",
       "      <td>2.330000</td>\n",
       "    </tr>\n",
       "    <tr>\n",
       "      <th>25%</th>\n",
       "      <td>192.375000</td>\n",
       "      <td>0.000000</td>\n",
       "      <td>0.000000</td>\n",
       "      <td>164.900000</td>\n",
       "      <td>0.000000</td>\n",
       "      <td>932.000000</td>\n",
       "      <td>730.950000</td>\n",
       "      <td>7.000000</td>\n",
       "      <td>23.710000</td>\n",
       "    </tr>\n",
       "    <tr>\n",
       "      <th>50%</th>\n",
       "      <td>272.900000</td>\n",
       "      <td>22.000000</td>\n",
       "      <td>0.000000</td>\n",
       "      <td>185.000000</td>\n",
       "      <td>6.400000</td>\n",
       "      <td>968.000000</td>\n",
       "      <td>779.500000</td>\n",
       "      <td>28.000000</td>\n",
       "      <td>34.445000</td>\n",
       "    </tr>\n",
       "    <tr>\n",
       "      <th>75%</th>\n",
       "      <td>350.000000</td>\n",
       "      <td>142.950000</td>\n",
       "      <td>118.300000</td>\n",
       "      <td>192.000000</td>\n",
       "      <td>10.200000</td>\n",
       "      <td>1029.400000</td>\n",
       "      <td>824.000000</td>\n",
       "      <td>56.000000</td>\n",
       "      <td>46.135000</td>\n",
       "    </tr>\n",
       "    <tr>\n",
       "      <th>max</th>\n",
       "      <td>540.000000</td>\n",
       "      <td>359.400000</td>\n",
       "      <td>200.100000</td>\n",
       "      <td>247.000000</td>\n",
       "      <td>32.200000</td>\n",
       "      <td>1145.000000</td>\n",
       "      <td>992.600000</td>\n",
       "      <td>365.000000</td>\n",
       "      <td>82.600000</td>\n",
       "    </tr>\n",
       "  </tbody>\n",
       "</table>\n",
       "</div>"
      ],
      "text/plain": [
       "            Cement  Blast Furnace Slag      Fly Ash        Water  \\\n",
       "count  1030.000000         1030.000000  1030.000000  1030.000000   \n",
       "mean    281.167864           73.895825    54.188350   181.567282   \n",
       "std     104.506364           86.279342    63.997004    21.354219   \n",
       "min     102.000000            0.000000     0.000000   121.800000   \n",
       "25%     192.375000            0.000000     0.000000   164.900000   \n",
       "50%     272.900000           22.000000     0.000000   185.000000   \n",
       "75%     350.000000          142.950000   118.300000   192.000000   \n",
       "max     540.000000          359.400000   200.100000   247.000000   \n",
       "\n",
       "       Superplasticizer  Coarse Aggregate  Fine Aggregate          Age  \\\n",
       "count       1030.000000       1030.000000     1030.000000  1030.000000   \n",
       "mean           6.204660        972.918932      773.580485    45.662136   \n",
       "std            5.973841         77.753954       80.175980    63.169912   \n",
       "min            0.000000        801.000000      594.000000     1.000000   \n",
       "25%            0.000000        932.000000      730.950000     7.000000   \n",
       "50%            6.400000        968.000000      779.500000    28.000000   \n",
       "75%           10.200000       1029.400000      824.000000    56.000000   \n",
       "max           32.200000       1145.000000      992.600000   365.000000   \n",
       "\n",
       "          Strength  \n",
       "count  1030.000000  \n",
       "mean     35.817961  \n",
       "std      16.705742  \n",
       "min       2.330000  \n",
       "25%      23.710000  \n",
       "50%      34.445000  \n",
       "75%      46.135000  \n",
       "max      82.600000  "
      ]
     },
     "execution_count": 3,
     "metadata": {},
     "output_type": "execute_result"
    }
   ],
   "source": [
    "concrete_data.describe()"
   ]
  },
  {
   "cell_type": "raw",
   "metadata": {},
   "source": [
    "concrete_data.isnull().sum()"
   ]
  },
  {
   "cell_type": "markdown",
   "metadata": {},
   "source": [
    "Already clean"
   ]
  },
  {
   "cell_type": "markdown",
   "metadata": {},
   "source": [
    "For a targe prediction we need to split data into predictors and target"
   ]
  },
  {
   "cell_type": "code",
   "execution_count": 4,
   "metadata": {},
   "outputs": [],
   "source": [
    "concrete_columns = concrete_data.columns\n",
    "predictors = concrete_data[concrete_columns[concrete_columns!='Strength']]\n",
    "target = concrete_data['Strength']"
   ]
  },
  {
   "cell_type": "code",
   "execution_count": 5,
   "metadata": {},
   "outputs": [
    {
     "data": {
      "text/html": [
       "<div>\n",
       "<style scoped>\n",
       "    .dataframe tbody tr th:only-of-type {\n",
       "        vertical-align: middle;\n",
       "    }\n",
       "\n",
       "    .dataframe tbody tr th {\n",
       "        vertical-align: top;\n",
       "    }\n",
       "\n",
       "    .dataframe thead th {\n",
       "        text-align: right;\n",
       "    }\n",
       "</style>\n",
       "<table border=\"1\" class=\"dataframe\">\n",
       "  <thead>\n",
       "    <tr style=\"text-align: right;\">\n",
       "      <th></th>\n",
       "      <th>Cement</th>\n",
       "      <th>Blast Furnace Slag</th>\n",
       "      <th>Fly Ash</th>\n",
       "      <th>Water</th>\n",
       "      <th>Superplasticizer</th>\n",
       "      <th>Coarse Aggregate</th>\n",
       "      <th>Fine Aggregate</th>\n",
       "      <th>Age</th>\n",
       "    </tr>\n",
       "  </thead>\n",
       "  <tbody>\n",
       "    <tr>\n",
       "      <th>0</th>\n",
       "      <td>540.0</td>\n",
       "      <td>0.0</td>\n",
       "      <td>0.0</td>\n",
       "      <td>162.0</td>\n",
       "      <td>2.5</td>\n",
       "      <td>1040.0</td>\n",
       "      <td>676.0</td>\n",
       "      <td>28</td>\n",
       "    </tr>\n",
       "    <tr>\n",
       "      <th>1</th>\n",
       "      <td>540.0</td>\n",
       "      <td>0.0</td>\n",
       "      <td>0.0</td>\n",
       "      <td>162.0</td>\n",
       "      <td>2.5</td>\n",
       "      <td>1055.0</td>\n",
       "      <td>676.0</td>\n",
       "      <td>28</td>\n",
       "    </tr>\n",
       "    <tr>\n",
       "      <th>2</th>\n",
       "      <td>332.5</td>\n",
       "      <td>142.5</td>\n",
       "      <td>0.0</td>\n",
       "      <td>228.0</td>\n",
       "      <td>0.0</td>\n",
       "      <td>932.0</td>\n",
       "      <td>594.0</td>\n",
       "      <td>270</td>\n",
       "    </tr>\n",
       "    <tr>\n",
       "      <th>3</th>\n",
       "      <td>332.5</td>\n",
       "      <td>142.5</td>\n",
       "      <td>0.0</td>\n",
       "      <td>228.0</td>\n",
       "      <td>0.0</td>\n",
       "      <td>932.0</td>\n",
       "      <td>594.0</td>\n",
       "      <td>365</td>\n",
       "    </tr>\n",
       "    <tr>\n",
       "      <th>4</th>\n",
       "      <td>198.6</td>\n",
       "      <td>132.4</td>\n",
       "      <td>0.0</td>\n",
       "      <td>192.0</td>\n",
       "      <td>0.0</td>\n",
       "      <td>978.4</td>\n",
       "      <td>825.5</td>\n",
       "      <td>360</td>\n",
       "    </tr>\n",
       "  </tbody>\n",
       "</table>\n",
       "</div>"
      ],
      "text/plain": [
       "   Cement  Blast Furnace Slag  Fly Ash  Water  Superplasticizer  \\\n",
       "0   540.0                 0.0      0.0  162.0               2.5   \n",
       "1   540.0                 0.0      0.0  162.0               2.5   \n",
       "2   332.5               142.5      0.0  228.0               0.0   \n",
       "3   332.5               142.5      0.0  228.0               0.0   \n",
       "4   198.6               132.4      0.0  192.0               0.0   \n",
       "\n",
       "   Coarse Aggregate  Fine Aggregate  Age  \n",
       "0            1040.0           676.0   28  \n",
       "1            1055.0           676.0   28  \n",
       "2             932.0           594.0  270  \n",
       "3             932.0           594.0  365  \n",
       "4             978.4           825.5  360  "
      ]
     },
     "execution_count": 5,
     "metadata": {},
     "output_type": "execute_result"
    }
   ],
   "source": [
    "predictors.head()"
   ]
  },
  {
   "cell_type": "code",
   "execution_count": 6,
   "metadata": {},
   "outputs": [
    {
     "data": {
      "text/plain": [
       "(1030,)"
      ]
     },
     "execution_count": 6,
     "metadata": {},
     "output_type": "execute_result"
    }
   ],
   "source": [
    "predictors['Cement'].shape"
   ]
  },
  {
   "cell_type": "code",
   "execution_count": 7,
   "metadata": {},
   "outputs": [
    {
     "data": {
      "text/plain": [
       "0    79.99\n",
       "1    61.89\n",
       "2    40.27\n",
       "3    41.05\n",
       "4    44.30\n",
       "Name: Strength, dtype: float64"
      ]
     },
     "execution_count": 7,
     "metadata": {},
     "output_type": "execute_result"
    }
   ],
   "source": [
    "target.head()"
   ]
  },
  {
   "cell_type": "code",
   "execution_count": 8,
   "metadata": {},
   "outputs": [
    {
     "data": {
      "text/plain": [
       "(1030,)"
      ]
     },
     "execution_count": 8,
     "metadata": {},
     "output_type": "execute_result"
    }
   ],
   "source": [
    "target.shape"
   ]
  },
  {
   "cell_type": "code",
   "execution_count": 9,
   "metadata": {},
   "outputs": [],
   "source": [
    "import matplotlib.pyplot as plt\n",
    "import seaborn as sns\n",
    "from scipy import stats\n",
    "\n",
    "#fig = plt.figure(figsize=(20,40))\n",
    "#fig.tight_layout()\n",
    "#for i, column_name in enumerate(predictors.columns):\n",
    "    #fig.add_subplot(12, 3, i + 1)\n",
    "#    ax.scatter(predictors['Cement'], target)\n",
    "#    ax.plot(x, y)\n",
    "#    plot = sns.scatterplot(x = predictors[column_name], y = target, color = 'red')\n",
    "#    plot.set_xlabel(column_name, fontsize = 16)\n"
   ]
  },
  {
   "cell_type": "code",
   "execution_count": 136,
   "metadata": {},
   "outputs": [
    {
     "data": {
      "image/png": "[encoded data removed]",
      "text/plain": [
       "<Figure size 1728x432 with 2 Axes>"
      ]
     },
     "metadata": {
      "needs_background": "light"
     },
     "output_type": "display_data"
    }
   ],
   "source": [
    "fig, (ax1, ax2) = plt.subplots(1, 2, figsize = (24, 6), gridspec_kw={'width_ratios': [3, 2]})\n",
    "\n",
    "sns.histplot(target, kde = True, color = 'red', stat = 'count', ax = ax1)\n",
    "ax1.set_title('Histogram of Strenght')\n",
    "stats.probplot(target, plot = sns.lineplot(ax = ax2))\n",
    "ax2.set_title('Probability Plot of Strenght')\n",
    "ax2.get_lines()[0].set_color('red')\n",
    "ax2.get_lines()[1].set_color('black')"
   ]
  },
  {
   "cell_type": "markdown",
   "metadata": {},
   "source": [
    "No outliers."
   ]
  },
  {
   "cell_type": "markdown",
   "metadata": {},
   "source": [
    "Normalize substracting the mean and dividing by the standard derivation "
   ]
  },
  {
   "cell_type": "code",
   "execution_count": 11,
   "metadata": {},
   "outputs": [
    {
     "data": {
      "text/html": [
       "<div>\n",
       "<style scoped>\n",
       "    .dataframe tbody tr th:only-of-type {\n",
       "        vertical-align: middle;\n",
       "    }\n",
       "\n",
       "    .dataframe tbody tr th {\n",
       "        vertical-align: top;\n",
       "    }\n",
       "\n",
       "    .dataframe thead th {\n",
       "        text-align: right;\n",
       "    }\n",
       "</style>\n",
       "<table border=\"1\" class=\"dataframe\">\n",
       "  <thead>\n",
       "    <tr style=\"text-align: right;\">\n",
       "      <th></th>\n",
       "      <th>Cement</th>\n",
       "      <th>Blast Furnace Slag</th>\n",
       "      <th>Fly Ash</th>\n",
       "      <th>Water</th>\n",
       "      <th>Superplasticizer</th>\n",
       "      <th>Coarse Aggregate</th>\n",
       "      <th>Fine Aggregate</th>\n",
       "      <th>Age</th>\n",
       "    </tr>\n",
       "  </thead>\n",
       "  <tbody>\n",
       "    <tr>\n",
       "      <th>0</th>\n",
       "      <td>2.476712</td>\n",
       "      <td>-0.856472</td>\n",
       "      <td>-0.846733</td>\n",
       "      <td>-0.916319</td>\n",
       "      <td>-0.620147</td>\n",
       "      <td>0.862735</td>\n",
       "      <td>-1.217079</td>\n",
       "      <td>-0.279597</td>\n",
       "    </tr>\n",
       "    <tr>\n",
       "      <th>1</th>\n",
       "      <td>2.476712</td>\n",
       "      <td>-0.856472</td>\n",
       "      <td>-0.846733</td>\n",
       "      <td>-0.916319</td>\n",
       "      <td>-0.620147</td>\n",
       "      <td>1.055651</td>\n",
       "      <td>-1.217079</td>\n",
       "      <td>-0.279597</td>\n",
       "    </tr>\n",
       "    <tr>\n",
       "      <th>2</th>\n",
       "      <td>0.491187</td>\n",
       "      <td>0.795140</td>\n",
       "      <td>-0.846733</td>\n",
       "      <td>2.174405</td>\n",
       "      <td>-1.038638</td>\n",
       "      <td>-0.526262</td>\n",
       "      <td>-2.239829</td>\n",
       "      <td>3.551340</td>\n",
       "    </tr>\n",
       "    <tr>\n",
       "      <th>3</th>\n",
       "      <td>0.491187</td>\n",
       "      <td>0.795140</td>\n",
       "      <td>-0.846733</td>\n",
       "      <td>2.174405</td>\n",
       "      <td>-1.038638</td>\n",
       "      <td>-0.526262</td>\n",
       "      <td>-2.239829</td>\n",
       "      <td>5.055221</td>\n",
       "    </tr>\n",
       "    <tr>\n",
       "      <th>4</th>\n",
       "      <td>-0.790075</td>\n",
       "      <td>0.678079</td>\n",
       "      <td>-0.846733</td>\n",
       "      <td>0.488555</td>\n",
       "      <td>-1.038638</td>\n",
       "      <td>0.070492</td>\n",
       "      <td>0.647569</td>\n",
       "      <td>4.976069</td>\n",
       "    </tr>\n",
       "  </tbody>\n",
       "</table>\n",
       "</div>"
      ],
      "text/plain": [
       "     Cement  Blast Furnace Slag   Fly Ash     Water  Superplasticizer  \\\n",
       "0  2.476712           -0.856472 -0.846733 -0.916319         -0.620147   \n",
       "1  2.476712           -0.856472 -0.846733 -0.916319         -0.620147   \n",
       "2  0.491187            0.795140 -0.846733  2.174405         -1.038638   \n",
       "3  0.491187            0.795140 -0.846733  2.174405         -1.038638   \n",
       "4 -0.790075            0.678079 -0.846733  0.488555         -1.038638   \n",
       "\n",
       "   Coarse Aggregate  Fine Aggregate       Age  \n",
       "0          0.862735       -1.217079 -0.279597  \n",
       "1          1.055651       -1.217079 -0.279597  \n",
       "2         -0.526262       -2.239829  3.551340  \n",
       "3         -0.526262       -2.239829  5.055221  \n",
       "4          0.070492        0.647569  4.976069  "
      ]
     },
     "execution_count": 11,
     "metadata": {},
     "output_type": "execute_result"
    }
   ],
   "source": [
    "predictors_norm = (predictors - predictors.mean()) / predictors.std()\n",
    "predictors_norm.head()"
   ]
  },
  {
   "cell_type": "markdown",
   "metadata": {},
   "source": [
    "Save the number of predictors to make the input nodes in the first layer "
   ]
  },
  {
   "cell_type": "code",
   "execution_count": 12,
   "metadata": {},
   "outputs": [],
   "source": [
    "n_cols = predictors_norm.shape[1]"
   ]
  },
  {
   "cell_type": "markdown",
   "metadata": {},
   "source": [
    "Import the libraries (there are two models in the keras library, one of them is the Sequential model and the other one is the model class used with the functional API)"
   ]
  },
  {
   "cell_type": "code",
   "execution_count": 13,
   "metadata": {},
   "outputs": [
    {
     "name": "stdout",
     "output_type": "stream",
     "text": [
      "setup complete\n"
     ]
    }
   ],
   "source": [
    "import tensorflow as tf\n",
    "\n",
    "from tensorflow import keras\n",
    "\n",
    "from keras.models import Sequential\n",
    "from keras.layers import Dense\n",
    "print(\"setup complete\")"
   ]
  },
  {
   "cell_type": "markdown",
   "metadata": {},
   "source": [
    "A Sequential model can be created just like any other model in python. "
   ]
  },
  {
   "cell_type": "markdown",
   "metadata": {},
   "source": [
    "Let's define a function that defines our regression model for us."
   ]
  },
  {
   "cell_type": "code",
   "execution_count": 132,
   "metadata": {},
   "outputs": [],
   "source": [
    "def regression_model():\n",
    "    model = Sequential() # call the constructor\n",
    "    # then use the add method to add each dense layer\n",
    "    \n",
    "    # for the firts layer we need to paas in the input_shape parameter the number or predictors\n",
    "    # spcify the number of neurons in each layer and the activation function\n",
    "    # 'ReLu' is one of the recommended function for hidden layers\n",
    "        # 50 neurons per layer\n",
    "    model.add(Dense(80, activation='relu', input_shape=(n_cols,))) \n",
    "    # reapeat for the hidden layers (without input_shape parameter)\n",
    "    # model.add(Dense(60,activation='relu')) \n",
    "    model.add(Dense(80,activation='relu')) \n",
    "    model.add(Dense(1)) # create the output parameter with one neuron\n",
    "    \n",
    "    # compile model\n",
    "    model.compile(optimizer='adam', loss='mean_squared_error')\n",
    "    return model"
   ]
  },
  {
   "cell_type": "markdown",
   "metadata": {},
   "source": [
    "The above function create a model that has two hidden layers, each of 50 hidden units. Let's create a model calling the function"
   ]
  },
  {
   "cell_type": "code",
   "execution_count": 133,
   "metadata": {},
   "outputs": [],
   "source": [
    "model = regression_model()"
   ]
  },
  {
   "cell_type": "markdown",
   "metadata": {},
   "source": [
    "We will train and test model at the same time using the fit method\n",
    "Leave out the 30% of the data for validation."
   ]
  },
  {
   "cell_type": "code",
   "execution_count": 134,
   "metadata": {},
   "outputs": [
    {
     "name": "stdout",
     "output_type": "stream",
     "text": [
      "Epoch 1/100\n",
      "23/23 - 2s - loss: 1615.8074 - val_loss: 1087.7546\n",
      "Epoch 2/100\n",
      "23/23 - 0s - loss: 1389.2703 - val_loss: 862.9915\n",
      "Epoch 3/100\n",
      "23/23 - 0s - loss: 1006.2880 - val_loss: 552.1898\n",
      "Epoch 4/100\n",
      "23/23 - 0s - loss: 554.3732 - val_loss: 294.2838\n",
      "Epoch 5/100\n",
      "23/23 - 0s - loss: 295.5655 - val_loss: 215.8234\n",
      "Epoch 6/100\n",
      "23/23 - 0s - loss: 241.5072 - val_loss: 192.9905\n",
      "Epoch 7/100\n",
      "23/23 - 0s - loss: 220.5146 - val_loss: 177.4476\n",
      "Epoch 8/100\n",
      "23/23 - 0s - loss: 205.9023 - val_loss: 175.1637\n",
      "Epoch 9/100\n",
      "23/23 - 0s - loss: 196.3719 - val_loss: 168.2978\n",
      "Epoch 10/100\n",
      "23/23 - 0s - loss: 187.8595 - val_loss: 165.8149\n",
      "Epoch 11/100\n",
      "23/23 - 0s - loss: 180.1826 - val_loss: 162.7291\n",
      "Epoch 12/100\n",
      "23/23 - 0s - loss: 173.7354 - val_loss: 161.3194\n",
      "Epoch 13/100\n",
      "23/23 - 0s - loss: 168.5604 - val_loss: 160.6786\n",
      "Epoch 14/100\n",
      "23/23 - 0s - loss: 164.6175 - val_loss: 161.3410\n",
      "Epoch 15/100\n",
      "23/23 - 0s - loss: 160.4391 - val_loss: 155.9107\n",
      "Epoch 16/100\n",
      "23/23 - 0s - loss: 156.9546 - val_loss: 159.1544\n",
      "Epoch 17/100\n",
      "23/23 - 1s - loss: 153.9597 - val_loss: 155.3758\n",
      "Epoch 18/100\n",
      "23/23 - 1s - loss: 151.2885 - val_loss: 157.1467\n",
      "Epoch 19/100\n",
      "23/23 - 0s - loss: 149.2650 - val_loss: 154.9103\n",
      "Epoch 20/100\n",
      "23/23 - 0s - loss: 146.7979 - val_loss: 156.3380\n",
      "Epoch 21/100\n",
      "23/23 - 0s - loss: 144.5625 - val_loss: 156.4571\n",
      "Epoch 22/100\n",
      "23/23 - 0s - loss: 142.9599 - val_loss: 155.7910\n",
      "Epoch 23/100\n",
      "23/23 - 0s - loss: 141.0073 - val_loss: 154.1212\n",
      "Epoch 24/100\n",
      "23/23 - 0s - loss: 140.2649 - val_loss: 154.7915\n",
      "Epoch 25/100\n",
      "23/23 - 0s - loss: 139.0980 - val_loss: 157.1678\n",
      "Epoch 26/100\n",
      "23/23 - 0s - loss: 137.2797 - val_loss: 153.8062\n",
      "Epoch 27/100\n",
      "23/23 - 0s - loss: 135.2344 - val_loss: 156.7886\n",
      "Epoch 28/100\n",
      "23/23 - 0s - loss: 133.7918 - val_loss: 156.8872\n",
      "Epoch 29/100\n",
      "23/23 - 0s - loss: 132.5933 - val_loss: 157.5675\n",
      "Epoch 30/100\n",
      "23/23 - 1s - loss: 130.5811 - val_loss: 155.2814\n",
      "Epoch 31/100\n",
      "23/23 - 0s - loss: 129.2632 - val_loss: 156.9852\n",
      "Epoch 32/100\n",
      "23/23 - 0s - loss: 128.3561 - val_loss: 158.5564\n",
      "Epoch 33/100\n",
      "23/23 - 0s - loss: 126.5865 - val_loss: 156.3103\n",
      "Epoch 34/100\n",
      "23/23 - 0s - loss: 125.1299 - val_loss: 154.8402\n",
      "Epoch 35/100\n",
      "23/23 - 0s - loss: 123.7319 - val_loss: 157.5799\n",
      "Epoch 36/100\n",
      "23/23 - 0s - loss: 122.8713 - val_loss: 151.7671\n",
      "Epoch 37/100\n",
      "23/23 - 0s - loss: 121.4684 - val_loss: 152.5488\n",
      "Epoch 38/100\n",
      "23/23 - 0s - loss: 119.1467 - val_loss: 156.0071\n",
      "Epoch 39/100\n",
      "23/23 - 0s - loss: 117.5270 - val_loss: 154.8286\n",
      "Epoch 40/100\n",
      "23/23 - 0s - loss: 117.0639 - val_loss: 153.9901\n",
      "Epoch 41/100\n",
      "23/23 - 0s - loss: 114.4106 - val_loss: 153.0558\n",
      "Epoch 42/100\n",
      "23/23 - 0s - loss: 112.0829 - val_loss: 145.8851\n",
      "Epoch 43/100\n",
      "23/23 - 0s - loss: 110.2497 - val_loss: 145.0535\n",
      "Epoch 44/100\n",
      "23/23 - 0s - loss: 108.5481 - val_loss: 146.8727\n",
      "Epoch 45/100\n",
      "23/23 - 0s - loss: 106.5265 - val_loss: 141.2805\n",
      "Epoch 46/100\n",
      "23/23 - 0s - loss: 104.2591 - val_loss: 141.7779\n",
      "Epoch 47/100\n",
      "23/23 - 0s - loss: 101.7447 - val_loss: 140.6723\n",
      "Epoch 48/100\n",
      "23/23 - 0s - loss: 99.2600 - val_loss: 144.5385\n",
      "Epoch 49/100\n",
      "23/23 - 0s - loss: 96.0474 - val_loss: 137.2619\n",
      "Epoch 50/100\n",
      "23/23 - 0s - loss: 93.5976 - val_loss: 144.0327\n",
      "Epoch 51/100\n",
      "23/23 - 0s - loss: 91.3579 - val_loss: 141.8976\n",
      "Epoch 52/100\n",
      "23/23 - 0s - loss: 88.0916 - val_loss: 132.1298\n",
      "Epoch 53/100\n",
      "23/23 - 0s - loss: 85.1686 - val_loss: 134.9084\n",
      "Epoch 54/100\n",
      "23/23 - 0s - loss: 81.9710 - val_loss: 129.5303\n",
      "Epoch 55/100\n",
      "23/23 - 0s - loss: 79.4473 - val_loss: 130.8611\n",
      "Epoch 56/100\n",
      "23/23 - 0s - loss: 76.5838 - val_loss: 131.5141\n",
      "Epoch 57/100\n",
      "23/23 - 0s - loss: 73.8042 - val_loss: 129.7434\n",
      "Epoch 58/100\n",
      "23/23 - 0s - loss: 71.2150 - val_loss: 128.3806\n",
      "Epoch 59/100\n",
      "23/23 - 0s - loss: 68.6287 - val_loss: 120.9115\n",
      "Epoch 60/100\n",
      "23/23 - 0s - loss: 66.1593 - val_loss: 121.4275\n",
      "Epoch 61/100\n",
      "23/23 - 0s - loss: 62.7391 - val_loss: 125.2912\n",
      "Epoch 62/100\n",
      "23/23 - 0s - loss: 60.6834 - val_loss: 118.3029\n",
      "Epoch 63/100\n",
      "23/23 - 0s - loss: 58.2107 - val_loss: 119.2046\n",
      "Epoch 64/100\n",
      "23/23 - 0s - loss: 55.9138 - val_loss: 116.0623\n",
      "Epoch 65/100\n",
      "23/23 - 0s - loss: 54.3803 - val_loss: 127.4395\n",
      "Epoch 66/100\n",
      "23/23 - 0s - loss: 52.0097 - val_loss: 119.8886\n",
      "Epoch 67/100\n",
      "23/23 - 0s - loss: 50.0725 - val_loss: 118.4176\n",
      "Epoch 68/100\n",
      "23/23 - 0s - loss: 48.8279 - val_loss: 124.1940\n",
      "Epoch 69/100\n",
      "23/23 - 0s - loss: 47.0033 - val_loss: 119.1339\n",
      "Epoch 70/100\n",
      "23/23 - 0s - loss: 45.4944 - val_loss: 122.3891\n",
      "Epoch 71/100\n",
      "23/23 - 0s - loss: 44.8043 - val_loss: 122.4940\n",
      "Epoch 72/100\n",
      "23/23 - 0s - loss: 43.4911 - val_loss: 125.0243\n",
      "Epoch 73/100\n",
      "23/23 - 0s - loss: 42.9582 - val_loss: 128.8576\n",
      "Epoch 74/100\n",
      "23/23 - 0s - loss: 42.3715 - val_loss: 142.3593\n",
      "Epoch 75/100\n",
      "23/23 - 0s - loss: 41.3624 - val_loss: 129.5098\n",
      "Epoch 76/100\n",
      "23/23 - 0s - loss: 39.9953 - val_loss: 133.0767\n",
      "Epoch 77/100\n",
      "23/23 - 0s - loss: 39.1931 - val_loss: 125.3732\n",
      "Epoch 78/100\n",
      "23/23 - 0s - loss: 38.3052 - val_loss: 132.4591\n",
      "Epoch 79/100\n",
      "23/23 - 0s - loss: 37.4146 - val_loss: 143.9634\n",
      "Epoch 80/100\n",
      "23/23 - 0s - loss: 37.0656 - val_loss: 132.7462\n",
      "Epoch 81/100\n",
      "23/23 - 0s - loss: 36.3782 - val_loss: 125.1851\n",
      "Epoch 82/100\n",
      "23/23 - 0s - loss: 36.0398 - val_loss: 127.4024\n",
      "Epoch 83/100\n",
      "23/23 - 0s - loss: 34.8026 - val_loss: 129.8858\n",
      "Epoch 84/100\n",
      "23/23 - 0s - loss: 35.0976 - val_loss: 133.4902\n",
      "Epoch 85/100\n",
      "23/23 - 0s - loss: 34.2241 - val_loss: 132.8922\n",
      "Epoch 86/100\n",
      "23/23 - 0s - loss: 33.6460 - val_loss: 157.7738\n",
      "Epoch 87/100\n",
      "23/23 - 0s - loss: 34.1431 - val_loss: 149.6737\n",
      "Epoch 88/100\n",
      "23/23 - 0s - loss: 32.9983 - val_loss: 130.1999\n",
      "Epoch 89/100\n",
      "23/23 - 0s - loss: 31.8492 - val_loss: 131.1375\n",
      "Epoch 90/100\n",
      "23/23 - 0s - loss: 31.7369 - val_loss: 151.4147\n",
      "Epoch 91/100\n",
      "23/23 - 0s - loss: 31.8427 - val_loss: 127.3298\n",
      "Epoch 92/100\n",
      "23/23 - 1s - loss: 31.1528 - val_loss: 130.7073\n",
      "Epoch 93/100\n",
      "23/23 - 0s - loss: 30.6595 - val_loss: 128.9903\n",
      "Epoch 94/100\n",
      "23/23 - 0s - loss: 30.1323 - val_loss: 132.8437\n",
      "Epoch 95/100\n",
      "23/23 - 0s - loss: 29.6374 - val_loss: 142.2318\n",
      "Epoch 96/100\n",
      "23/23 - 0s - loss: 29.4640 - val_loss: 127.2519\n",
      "Epoch 97/100\n",
      "23/23 - 0s - loss: 28.6720 - val_loss: 129.8375\n",
      "Epoch 98/100\n",
      "23/23 - 0s - loss: 28.6919 - val_loss: 134.7653\n",
      "Epoch 99/100\n",
      "23/23 - 0s - loss: 28.2790 - val_loss: 138.3759\n",
      "Epoch 100/100\n",
      "23/23 - 0s - loss: 27.9722 - val_loss: 162.2793\n"
     ]
    }
   ],
   "source": [
    "history = model.fit(predictors_norm, target, validation_split=0.3, epochs=100, verbose=2)"
   ]
  },
  {
   "cell_type": "markdown",
   "metadata": {},
   "source": [
    "no we can use 'predictions = model.predict(test_data)' for an unknow-target data"
   ]
  },
  {
   "cell_type": "code",
   "execution_count": 135,
   "metadata": {},
   "outputs": [
    {
     "name": "stdout",
     "output_type": "stream",
     "text": [
      "dict_keys(['loss', 'val_loss'])\n"
     ]
    },
    {
     "data": {
      "image/png": "[encoded data removed]",
      "text/plain": [
       "<Figure size 432x288 with 1 Axes>"
      ]
     },
     "metadata": {
      "needs_background": "light"
     },
     "output_type": "display_data"
    }
   ],
   "source": [
    "#I want to plot the output of this simple neural network:\n",
    "\n",
    "print(history.history.keys())\n",
    "\n",
    "# \"Loss\"\n",
    "plt.plot(history.history['loss'])\n",
    "plt.plot(history.history['val_loss'])\n",
    "plt.title('model loss')\n",
    "plt.ylabel('loss')\n",
    "plt.xlabel('epoch')\n",
    "plt.legend(['train', 'validation'], loc='upper left')\n",
    "plt.show()"
   ]
  },
  {
   "cell_type": "code",
   "execution_count": null,
   "metadata": {},
   "outputs": [],
   "source": []
  },
  {
   "cell_type": "code",
   "execution_count": null,
   "metadata": {},
   "outputs": [],
   "source": []
  }
 ],
 "metadata": {
  "kernelspec": {
   "display_name": "Python 3",
   "language": "python",
   "name": "python3"
  },
  "language_info": {
   "codemirror_mode": {
    "name": "ipython",
    "version": 3
   },
   "file_extension": ".py",
   "mimetype": "text/x-python",
   "name": "python",
   "nbconvert_exporter": "python",
   "pygments_lexer": "ipython3",
   "version": "3.8.5"
  }
 },
 "nbformat": 4,
 "nbformat_minor": 4
}
