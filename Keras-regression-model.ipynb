{
 "cells": [
  {
   "cell_type": "markdown",
   "metadata": {},
   "source": [
    "## Regresion Models wih Keras ##\n",
    "Content:\n",
    "1. Download and clean dataset.\n",
    "2. Use the Keras library to build a regression model.\n",
    "3. Build a Neural network.\n",
    "4. Train and Test the Network."
   ]
  },
  {
   "cell_type": "code",
   "execution_count": 29,
   "metadata": {},
   "outputs": [
    {
     "data": {
      "text/html": [
       "<div>\n",
       "<style scoped>\n",
       "    .dataframe tbody tr th:only-of-type {\n",
       "        vertical-align: middle;\n",
       "    }\n",
       "\n",
       "    .dataframe tbody tr th {\n",
       "        vertical-align: top;\n",
       "    }\n",
       "\n",
       "    .dataframe thead th {\n",
       "        text-align: right;\n",
       "    }\n",
       "</style>\n",
       "<table border=\"1\" class=\"dataframe\">\n",
       "  <thead>\n",
       "    <tr style=\"text-align: right;\">\n",
       "      <th></th>\n",
       "      <th>Cement</th>\n",
       "      <th>Blast Furnace Slag</th>\n",
       "      <th>Fly Ash</th>\n",
       "      <th>Water</th>\n",
       "      <th>Superplasticizer</th>\n",
       "      <th>Coarse Aggregate</th>\n",
       "      <th>Fine Aggregate</th>\n",
       "      <th>Age</th>\n",
       "      <th>Strength</th>\n",
       "    </tr>\n",
       "  </thead>\n",
       "  <tbody>\n",
       "    <tr>\n",
       "      <th>0</th>\n",
       "      <td>540.0</td>\n",
       "      <td>0.0</td>\n",
       "      <td>0.0</td>\n",
       "      <td>162.0</td>\n",
       "      <td>2.5</td>\n",
       "      <td>1040.0</td>\n",
       "      <td>676.0</td>\n",
       "      <td>28</td>\n",
       "      <td>79.99</td>\n",
       "    </tr>\n",
       "    <tr>\n",
       "      <th>1</th>\n",
       "      <td>540.0</td>\n",
       "      <td>0.0</td>\n",
       "      <td>0.0</td>\n",
       "      <td>162.0</td>\n",
       "      <td>2.5</td>\n",
       "      <td>1055.0</td>\n",
       "      <td>676.0</td>\n",
       "      <td>28</td>\n",
       "      <td>61.89</td>\n",
       "    </tr>\n",
       "    <tr>\n",
       "      <th>2</th>\n",
       "      <td>332.5</td>\n",
       "      <td>142.5</td>\n",
       "      <td>0.0</td>\n",
       "      <td>228.0</td>\n",
       "      <td>0.0</td>\n",
       "      <td>932.0</td>\n",
       "      <td>594.0</td>\n",
       "      <td>270</td>\n",
       "      <td>40.27</td>\n",
       "    </tr>\n",
       "    <tr>\n",
       "      <th>3</th>\n",
       "      <td>332.5</td>\n",
       "      <td>142.5</td>\n",
       "      <td>0.0</td>\n",
       "      <td>228.0</td>\n",
       "      <td>0.0</td>\n",
       "      <td>932.0</td>\n",
       "      <td>594.0</td>\n",
       "      <td>365</td>\n",
       "      <td>41.05</td>\n",
       "    </tr>\n",
       "    <tr>\n",
       "      <th>4</th>\n",
       "      <td>198.6</td>\n",
       "      <td>132.4</td>\n",
       "      <td>0.0</td>\n",
       "      <td>192.0</td>\n",
       "      <td>0.0</td>\n",
       "      <td>978.4</td>\n",
       "      <td>825.5</td>\n",
       "      <td>360</td>\n",
       "      <td>44.30</td>\n",
       "    </tr>\n",
       "  </tbody>\n",
       "</table>\n",
       "</div>"
      ],
      "text/plain": [
       "   Cement  Blast Furnace Slag  Fly Ash  Water  Superplasticizer  \\\n",
       "0   540.0                 0.0      0.0  162.0               2.5   \n",
       "1   540.0                 0.0      0.0  162.0               2.5   \n",
       "2   332.5               142.5      0.0  228.0               0.0   \n",
       "3   332.5               142.5      0.0  228.0               0.0   \n",
       "4   198.6               132.4      0.0  192.0               0.0   \n",
       "\n",
       "   Coarse Aggregate  Fine Aggregate  Age  Strength  \n",
       "0            1040.0           676.0   28     79.99  \n",
       "1            1055.0           676.0   28     61.89  \n",
       "2             932.0           594.0  270     40.27  \n",
       "3             932.0           594.0  365     41.05  \n",
       "4             978.4           825.5  360     44.30  "
      ]
     },
     "execution_count": 29,
     "metadata": {},
     "output_type": "execute_result"
    }
   ],
   "source": [
    "import numpy as np\n",
    "import pandas as pd\n",
    "\n",
    "concrete_data = pd.read_csv('https://s3-api.us-geo.objectstorage.softlayer.net/cf-courses-data/CognitiveClass/DL0101EN/labs/data/concrete_data.csv')\n",
    "concrete_data.head()"
   ]
  },
  {
   "cell_type": "code",
   "execution_count": 19,
   "metadata": {},
   "outputs": [
    {
     "data": {
      "text/plain": [
       "(1030, 9)"
      ]
     },
     "execution_count": 19,
     "metadata": {},
     "output_type": "execute_result"
    }
   ],
   "source": [
    "concrete_data.shape"
   ]
  },
  {
   "cell_type": "code",
   "execution_count": 20,
   "metadata": {},
   "outputs": [
    {
     "data": {
      "text/html": [
       "<div>\n",
       "<style scoped>\n",
       "    .dataframe tbody tr th:only-of-type {\n",
       "        vertical-align: middle;\n",
       "    }\n",
       "\n",
       "    .dataframe tbody tr th {\n",
       "        vertical-align: top;\n",
       "    }\n",
       "\n",
       "    .dataframe thead th {\n",
       "        text-align: right;\n",
       "    }\n",
       "</style>\n",
       "<table border=\"1\" class=\"dataframe\">\n",
       "  <thead>\n",
       "    <tr style=\"text-align: right;\">\n",
       "      <th></th>\n",
       "      <th>Cement</th>\n",
       "      <th>Blast Furnace Slag</th>\n",
       "      <th>Fly Ash</th>\n",
       "      <th>Water</th>\n",
       "      <th>Superplasticizer</th>\n",
       "      <th>Coarse Aggregate</th>\n",
       "      <th>Fine Aggregate</th>\n",
       "      <th>Age</th>\n",
       "      <th>Strength</th>\n",
       "    </tr>\n",
       "  </thead>\n",
       "  <tbody>\n",
       "    <tr>\n",
       "      <th>count</th>\n",
       "      <td>1030.000000</td>\n",
       "      <td>1030.000000</td>\n",
       "      <td>1030.000000</td>\n",
       "      <td>1030.000000</td>\n",
       "      <td>1030.000000</td>\n",
       "      <td>1030.000000</td>\n",
       "      <td>1030.000000</td>\n",
       "      <td>1030.000000</td>\n",
       "      <td>1030.000000</td>\n",
       "    </tr>\n",
       "    <tr>\n",
       "      <th>mean</th>\n",
       "      <td>281.167864</td>\n",
       "      <td>73.895825</td>\n",
       "      <td>54.188350</td>\n",
       "      <td>181.567282</td>\n",
       "      <td>6.204660</td>\n",
       "      <td>972.918932</td>\n",
       "      <td>773.580485</td>\n",
       "      <td>45.662136</td>\n",
       "      <td>35.817961</td>\n",
       "    </tr>\n",
       "    <tr>\n",
       "      <th>std</th>\n",
       "      <td>104.506364</td>\n",
       "      <td>86.279342</td>\n",
       "      <td>63.997004</td>\n",
       "      <td>21.354219</td>\n",
       "      <td>5.973841</td>\n",
       "      <td>77.753954</td>\n",
       "      <td>80.175980</td>\n",
       "      <td>63.169912</td>\n",
       "      <td>16.705742</td>\n",
       "    </tr>\n",
       "    <tr>\n",
       "      <th>min</th>\n",
       "      <td>102.000000</td>\n",
       "      <td>0.000000</td>\n",
       "      <td>0.000000</td>\n",
       "      <td>121.800000</td>\n",
       "      <td>0.000000</td>\n",
       "      <td>801.000000</td>\n",
       "      <td>594.000000</td>\n",
       "      <td>1.000000</td>\n",
       "      <td>2.330000</td>\n",
       "    </tr>\n",
       "    <tr>\n",
       "      <th>25%</th>\n",
       "      <td>192.375000</td>\n",
       "      <td>0.000000</td>\n",
       "      <td>0.000000</td>\n",
       "      <td>164.900000</td>\n",
       "      <td>0.000000</td>\n",
       "      <td>932.000000</td>\n",
       "      <td>730.950000</td>\n",
       "      <td>7.000000</td>\n",
       "      <td>23.710000</td>\n",
       "    </tr>\n",
       "    <tr>\n",
       "      <th>50%</th>\n",
       "      <td>272.900000</td>\n",
       "      <td>22.000000</td>\n",
       "      <td>0.000000</td>\n",
       "      <td>185.000000</td>\n",
       "      <td>6.400000</td>\n",
       "      <td>968.000000</td>\n",
       "      <td>779.500000</td>\n",
       "      <td>28.000000</td>\n",
       "      <td>34.445000</td>\n",
       "    </tr>\n",
       "    <tr>\n",
       "      <th>75%</th>\n",
       "      <td>350.000000</td>\n",
       "      <td>142.950000</td>\n",
       "      <td>118.300000</td>\n",
       "      <td>192.000000</td>\n",
       "      <td>10.200000</td>\n",
       "      <td>1029.400000</td>\n",
       "      <td>824.000000</td>\n",
       "      <td>56.000000</td>\n",
       "      <td>46.135000</td>\n",
       "    </tr>\n",
       "    <tr>\n",
       "      <th>max</th>\n",
       "      <td>540.000000</td>\n",
       "      <td>359.400000</td>\n",
       "      <td>200.100000</td>\n",
       "      <td>247.000000</td>\n",
       "      <td>32.200000</td>\n",
       "      <td>1145.000000</td>\n",
       "      <td>992.600000</td>\n",
       "      <td>365.000000</td>\n",
       "      <td>82.600000</td>\n",
       "    </tr>\n",
       "  </tbody>\n",
       "</table>\n",
       "</div>"
      ],
      "text/plain": [
       "            Cement  Blast Furnace Slag      Fly Ash        Water  \\\n",
       "count  1030.000000         1030.000000  1030.000000  1030.000000   \n",
       "mean    281.167864           73.895825    54.188350   181.567282   \n",
       "std     104.506364           86.279342    63.997004    21.354219   \n",
       "min     102.000000            0.000000     0.000000   121.800000   \n",
       "25%     192.375000            0.000000     0.000000   164.900000   \n",
       "50%     272.900000           22.000000     0.000000   185.000000   \n",
       "75%     350.000000          142.950000   118.300000   192.000000   \n",
       "max     540.000000          359.400000   200.100000   247.000000   \n",
       "\n",
       "       Superplasticizer  Coarse Aggregate  Fine Aggregate          Age  \\\n",
       "count       1030.000000       1030.000000     1030.000000  1030.000000   \n",
       "mean           6.204660        972.918932      773.580485    45.662136   \n",
       "std            5.973841         77.753954       80.175980    63.169912   \n",
       "min            0.000000        801.000000      594.000000     1.000000   \n",
       "25%            0.000000        932.000000      730.950000     7.000000   \n",
       "50%            6.400000        968.000000      779.500000    28.000000   \n",
       "75%           10.200000       1029.400000      824.000000    56.000000   \n",
       "max           32.200000       1145.000000      992.600000   365.000000   \n",
       "\n",
       "          Strength  \n",
       "count  1030.000000  \n",
       "mean     35.817961  \n",
       "std      16.705742  \n",
       "min       2.330000  \n",
       "25%      23.710000  \n",
       "50%      34.445000  \n",
       "75%      46.135000  \n",
       "max      82.600000  "
      ]
     },
     "execution_count": 20,
     "metadata": {},
     "output_type": "execute_result"
    }
   ],
   "source": [
    "concrete_data.describe()"
   ]
  },
  {
   "cell_type": "code",
   "execution_count": 28,
   "metadata": {},
   "outputs": [
    {
     "data": {
      "text/plain": [
       "Cement                0\n",
       "Blast Furnace Slag    0\n",
       "Fly Ash               0\n",
       "Water                 0\n",
       "Superplasticizer      0\n",
       "Coarse Aggregate      0\n",
       "Fine Aggregate        0\n",
       "Age                   0\n",
       "Strength              0\n",
       "dtype: int64"
      ]
     },
     "execution_count": 28,
     "metadata": {},
     "output_type": "execute_result"
    }
   ],
   "source": [
    "concrete_data.isnull().sum()"
   ]
  },
  {
   "cell_type": "markdown",
   "metadata": {},
   "source": [
    "Already clean"
   ]
  },
  {
   "cell_type": "markdown",
   "metadata": {},
   "source": [
    "For a targe prediction we need to split data into predictors and target"
   ]
  },
  {
   "cell_type": "code",
   "execution_count": 21,
   "metadata": {},
   "outputs": [],
   "source": [
    "concrete_columns = concrete_data.columns\n",
    "predictors = concrete_data[concrete_columns[concrete_columns!='Strength']]\n",
    "target = concrete_data['Strength']"
   ]
  },
  {
   "cell_type": "code",
   "execution_count": 22,
   "metadata": {},
   "outputs": [
    {
     "data": {
      "text/html": [
       "<div>\n",
       "<style scoped>\n",
       "    .dataframe tbody tr th:only-of-type {\n",
       "        vertical-align: middle;\n",
       "    }\n",
       "\n",
       "    .dataframe tbody tr th {\n",
       "        vertical-align: top;\n",
       "    }\n",
       "\n",
       "    .dataframe thead th {\n",
       "        text-align: right;\n",
       "    }\n",
       "</style>\n",
       "<table border=\"1\" class=\"dataframe\">\n",
       "  <thead>\n",
       "    <tr style=\"text-align: right;\">\n",
       "      <th></th>\n",
       "      <th>Cement</th>\n",
       "      <th>Blast Furnace Slag</th>\n",
       "      <th>Fly Ash</th>\n",
       "      <th>Water</th>\n",
       "      <th>Superplasticizer</th>\n",
       "      <th>Coarse Aggregate</th>\n",
       "      <th>Fine Aggregate</th>\n",
       "      <th>Age</th>\n",
       "    </tr>\n",
       "  </thead>\n",
       "  <tbody>\n",
       "    <tr>\n",
       "      <th>0</th>\n",
       "      <td>540.0</td>\n",
       "      <td>0.0</td>\n",
       "      <td>0.0</td>\n",
       "      <td>162.0</td>\n",
       "      <td>2.5</td>\n",
       "      <td>1040.0</td>\n",
       "      <td>676.0</td>\n",
       "      <td>28</td>\n",
       "    </tr>\n",
       "    <tr>\n",
       "      <th>1</th>\n",
       "      <td>540.0</td>\n",
       "      <td>0.0</td>\n",
       "      <td>0.0</td>\n",
       "      <td>162.0</td>\n",
       "      <td>2.5</td>\n",
       "      <td>1055.0</td>\n",
       "      <td>676.0</td>\n",
       "      <td>28</td>\n",
       "    </tr>\n",
       "    <tr>\n",
       "      <th>2</th>\n",
       "      <td>332.5</td>\n",
       "      <td>142.5</td>\n",
       "      <td>0.0</td>\n",
       "      <td>228.0</td>\n",
       "      <td>0.0</td>\n",
       "      <td>932.0</td>\n",
       "      <td>594.0</td>\n",
       "      <td>270</td>\n",
       "    </tr>\n",
       "    <tr>\n",
       "      <th>3</th>\n",
       "      <td>332.5</td>\n",
       "      <td>142.5</td>\n",
       "      <td>0.0</td>\n",
       "      <td>228.0</td>\n",
       "      <td>0.0</td>\n",
       "      <td>932.0</td>\n",
       "      <td>594.0</td>\n",
       "      <td>365</td>\n",
       "    </tr>\n",
       "    <tr>\n",
       "      <th>4</th>\n",
       "      <td>198.6</td>\n",
       "      <td>132.4</td>\n",
       "      <td>0.0</td>\n",
       "      <td>192.0</td>\n",
       "      <td>0.0</td>\n",
       "      <td>978.4</td>\n",
       "      <td>825.5</td>\n",
       "      <td>360</td>\n",
       "    </tr>\n",
       "  </tbody>\n",
       "</table>\n",
       "</div>"
      ],
      "text/plain": [
       "   Cement  Blast Furnace Slag  Fly Ash  Water  Superplasticizer  \\\n",
       "0   540.0                 0.0      0.0  162.0               2.5   \n",
       "1   540.0                 0.0      0.0  162.0               2.5   \n",
       "2   332.5               142.5      0.0  228.0               0.0   \n",
       "3   332.5               142.5      0.0  228.0               0.0   \n",
       "4   198.6               132.4      0.0  192.0               0.0   \n",
       "\n",
       "   Coarse Aggregate  Fine Aggregate  Age  \n",
       "0            1040.0           676.0   28  \n",
       "1            1055.0           676.0   28  \n",
       "2             932.0           594.0  270  \n",
       "3             932.0           594.0  365  \n",
       "4             978.4           825.5  360  "
      ]
     },
     "execution_count": 22,
     "metadata": {},
     "output_type": "execute_result"
    }
   ],
   "source": [
    "predictors.head()"
   ]
  },
  {
   "cell_type": "code",
   "execution_count": 23,
   "metadata": {},
   "outputs": [
    {
     "data": {
      "text/plain": [
       "(1030,)"
      ]
     },
     "execution_count": 23,
     "metadata": {},
     "output_type": "execute_result"
    }
   ],
   "source": [
    "predictors['Cement'].shape"
   ]
  },
  {
   "cell_type": "code",
   "execution_count": 24,
   "metadata": {},
   "outputs": [
    {
     "data": {
      "text/plain": [
       "0    79.99\n",
       "1    61.89\n",
       "2    40.27\n",
       "3    41.05\n",
       "4    44.30\n",
       "Name: Strength, dtype: float64"
      ]
     },
     "execution_count": 24,
     "metadata": {},
     "output_type": "execute_result"
    }
   ],
   "source": [
    "target.head()"
   ]
  },
  {
   "cell_type": "code",
   "execution_count": 25,
   "metadata": {},
   "outputs": [
    {
     "data": {
      "text/plain": [
       "(1030,)"
      ]
     },
     "execution_count": 25,
     "metadata": {},
     "output_type": "execute_result"
    }
   ],
   "source": [
    "target.shape"
   ]
  },
  {
   "cell_type": "code",
   "execution_count": 26,
   "metadata": {},
   "outputs": [],
   "source": [
    "import matplotlib.pyplot as plt\n",
    "import seaborn as sns\n",
    "from scipy import stats\n",
    "\n",
    "#fig = plt.figure(figsize=(20,40))\n",
    "#fig.tight_layout()\n",
    "#for i, column_name in enumerate(predictors.columns):\n",
    "    #fig.add_subplot(12, 3, i + 1)\n",
    "#    ax.scatter(predictors['Cement'], target)\n",
    "#    ax.plot(x, y)\n",
    "#    plot = sns.scatterplot(x = predictors[column_name], y = target, color = 'red')\n",
    "#    plot.set_xlabel(column_name, fontsize = 16)\n"
   ]
  },
  {
   "cell_type": "code",
   "execution_count": 27,
   "metadata": {},
   "outputs": [
    {
     "data": {
      "image/png": "[encoded data removed]",
      "text/plain": [
       "<Figure size 1728x432 with 2 Axes>"
      ]
     },
     "metadata": {
      "needs_background": "light"
     },
     "output_type": "display_data"
    }
   ],
   "source": [
    "fig, (ax1, ax2) = plt.subplots(1, 2, figsize = (24, 6), gridspec_kw={'width_ratios': [3, 2]})\n",
    "\n",
    "sns.histplot(target, kde = True, color = 'red', stat = 'count', ax = ax1)\n",
    "ax1.set_title('Histogram of Strenght')\n",
    "stats.probplot(target, plot = sns.lineplot(ax = ax2))\n",
    "ax2.set_title('Probability Plot of Strenght')\n",
    "ax2.get_lines()[0].set_color('red')\n",
    "ax2.get_lines()[1].set_color('black')"
   ]
  },
  {
   "cell_type": "markdown",
   "metadata": {},
   "source": [
    "No outliers."
   ]
  },
  {
   "cell_type": "markdown",
   "metadata": {},
   "source": [
    "Normalize substracting the mean and dividing by the standard derivation "
   ]
  },
  {
   "cell_type": "code",
   "execution_count": 11,
   "metadata": {},
   "outputs": [
    {
     "data": {
      "text/html": [
       "<div>\n",
       "<style scoped>\n",
       "    .dataframe tbody tr th:only-of-type {\n",
       "        vertical-align: middle;\n",
       "    }\n",
       "\n",
       "    .dataframe tbody tr th {\n",
       "        vertical-align: top;\n",
       "    }\n",
       "\n",
       "    .dataframe thead th {\n",
       "        text-align: right;\n",
       "    }\n",
       "</style>\n",
       "<table border=\"1\" class=\"dataframe\">\n",
       "  <thead>\n",
       "    <tr style=\"text-align: right;\">\n",
       "      <th></th>\n",
       "      <th>Cement</th>\n",
       "      <th>Blast Furnace Slag</th>\n",
       "      <th>Fly Ash</th>\n",
       "      <th>Water</th>\n",
       "      <th>Superplasticizer</th>\n",
       "      <th>Coarse Aggregate</th>\n",
       "      <th>Fine Aggregate</th>\n",
       "      <th>Age</th>\n",
       "    </tr>\n",
       "  </thead>\n",
       "  <tbody>\n",
       "    <tr>\n",
       "      <th>0</th>\n",
       "      <td>2.476712</td>\n",
       "      <td>-0.856472</td>\n",
       "      <td>-0.846733</td>\n",
       "      <td>-0.916319</td>\n",
       "      <td>-0.620147</td>\n",
       "      <td>0.862735</td>\n",
       "      <td>-1.217079</td>\n",
       "      <td>-0.279597</td>\n",
       "    </tr>\n",
       "    <tr>\n",
       "      <th>1</th>\n",
       "      <td>2.476712</td>\n",
       "      <td>-0.856472</td>\n",
       "      <td>-0.846733</td>\n",
       "      <td>-0.916319</td>\n",
       "      <td>-0.620147</td>\n",
       "      <td>1.055651</td>\n",
       "      <td>-1.217079</td>\n",
       "      <td>-0.279597</td>\n",
       "    </tr>\n",
       "    <tr>\n",
       "      <th>2</th>\n",
       "      <td>0.491187</td>\n",
       "      <td>0.795140</td>\n",
       "      <td>-0.846733</td>\n",
       "      <td>2.174405</td>\n",
       "      <td>-1.038638</td>\n",
       "      <td>-0.526262</td>\n",
       "      <td>-2.239829</td>\n",
       "      <td>3.551340</td>\n",
       "    </tr>\n",
       "    <tr>\n",
       "      <th>3</th>\n",
       "      <td>0.491187</td>\n",
       "      <td>0.795140</td>\n",
       "      <td>-0.846733</td>\n",
       "      <td>2.174405</td>\n",
       "      <td>-1.038638</td>\n",
       "      <td>-0.526262</td>\n",
       "      <td>-2.239829</td>\n",
       "      <td>5.055221</td>\n",
       "    </tr>\n",
       "    <tr>\n",
       "      <th>4</th>\n",
       "      <td>-0.790075</td>\n",
       "      <td>0.678079</td>\n",
       "      <td>-0.846733</td>\n",
       "      <td>0.488555</td>\n",
       "      <td>-1.038638</td>\n",
       "      <td>0.070492</td>\n",
       "      <td>0.647569</td>\n",
       "      <td>4.976069</td>\n",
       "    </tr>\n",
       "  </tbody>\n",
       "</table>\n",
       "</div>"
      ],
      "text/plain": [
       "     Cement  Blast Furnace Slag   Fly Ash     Water  Superplasticizer  \\\n",
       "0  2.476712           -0.856472 -0.846733 -0.916319         -0.620147   \n",
       "1  2.476712           -0.856472 -0.846733 -0.916319         -0.620147   \n",
       "2  0.491187            0.795140 -0.846733  2.174405         -1.038638   \n",
       "3  0.491187            0.795140 -0.846733  2.174405         -1.038638   \n",
       "4 -0.790075            0.678079 -0.846733  0.488555         -1.038638   \n",
       "\n",
       "   Coarse Aggregate  Fine Aggregate       Age  \n",
       "0          0.862735       -1.217079 -0.279597  \n",
       "1          1.055651       -1.217079 -0.279597  \n",
       "2         -0.526262       -2.239829  3.551340  \n",
       "3         -0.526262       -2.239829  5.055221  \n",
       "4          0.070492        0.647569  4.976069  "
      ]
     },
     "execution_count": 11,
     "metadata": {},
     "output_type": "execute_result"
    }
   ],
   "source": [
    "predictors_norm = (predictors - predictors.mean()) / predictors.std()\n",
    "predictors_norm.head()"
   ]
  },
  {
   "cell_type": "markdown",
   "metadata": {},
   "source": [
    "Save the number of predictors to make the input nodes in the first layer "
   ]
  },
  {
   "cell_type": "code",
   "execution_count": 12,
   "metadata": {},
   "outputs": [],
   "source": [
    "n_cols = predictors_norm.shape[1]"
   ]
  },
  {
   "cell_type": "markdown",
   "metadata": {},
   "source": [
    "Import the libraries (there are two models in the keras library, one of them is the Sequential model and the other one is the model class used with the functional API)"
   ]
  },
  {
   "cell_type": "code",
   "execution_count": 13,
   "metadata": {},
   "outputs": [
    {
     "name": "stdout",
     "output_type": "stream",
     "text": [
      "setup complete\n"
     ]
    }
   ],
   "source": [
    "import tensorflow as tf\n",
    "\n",
    "from tensorflow import keras\n",
    "\n",
    "from keras.models import Sequential\n",
    "from keras.layers import Dense\n",
    "print(\"setup complete\")"
   ]
  },
  {
   "cell_type": "markdown",
   "metadata": {},
   "source": [
    "A Sequential model can be created just like any other model in python. "
   ]
  },
  {
   "cell_type": "markdown",
   "metadata": {},
   "source": [
    "Let's define a function that defines our regression model for us."
   ]
  },
  {
   "cell_type": "code",
   "execution_count": 39,
   "metadata": {},
   "outputs": [],
   "source": [
    "def regression_model():\n",
    "    model = Sequential() # call the constructor\n",
    "    # then use the add method to add each dense layer\n",
    "    \n",
    "    # for the firts layer we need to paas in the input_shape parameter the number or predictors\n",
    "    # spcify the number of neurons in each layer and the activation function\n",
    "    # 'ReLu' is one of the recommended function for hidden layers\n",
    "        # 50 neurons per layer\n",
    "    model.add(Dense(50, activation='relu', input_shape=(n_cols,))) \n",
    "    # reapeat for the hidden layers (without input_shape parameter)\n",
    "    # model.add(Dense(30,activation='relu')) \n",
    "    model.add(Dense(50,activation='relu')) \n",
    "    model.add(Dense(1)) # create the output parameter with one neuron\n",
    "    \n",
    "    # compile model\n",
    "    model.compile(optimizer='adam', loss='mean_squared_error')\n",
    "    return model"
   ]
  },
  {
   "cell_type": "markdown",
   "metadata": {},
   "source": [
    "The above function create a model that has two hidden layers, each of 50 hidden units. Let's create a model calling the function"
   ]
  },
  {
   "cell_type": "code",
   "execution_count": 40,
   "metadata": {},
   "outputs": [],
   "source": [
    "model = regression_model()"
   ]
  },
  {
   "cell_type": "markdown",
   "metadata": {},
   "source": [
    "We will train and test model at the same time using the fit method\n",
    "Leave out the 30% of the data for validation."
   ]
  },
  {
   "cell_type": "code",
   "execution_count": 41,
   "metadata": {},
   "outputs": [
    {
     "name": "stdout",
     "output_type": "stream",
     "text": [
      "Epoch 1/100\n",
      "23/23 - 3s - loss: 1688.6498 - val_loss: 1184.3892\n",
      "Epoch 2/100\n",
      "23/23 - 0s - loss: 1585.2573 - val_loss: 1089.6577\n",
      "Epoch 3/100\n",
      "23/23 - 0s - loss: 1428.5038 - val_loss: 938.6483\n",
      "Epoch 4/100\n",
      "23/23 - 0s - loss: 1176.4365 - val_loss: 730.0100\n",
      "Epoch 5/100\n",
      "23/23 - 0s - loss: 840.0169 - val_loss: 490.9486\n",
      "Epoch 6/100\n",
      "23/23 - 0s - loss: 495.5478 - val_loss: 302.1551\n",
      "Epoch 7/100\n",
      "23/23 - 0s - loss: 286.4374 - val_loss: 210.9483\n",
      "Epoch 8/100\n",
      "23/23 - 0s - loss: 219.1595 - val_loss: 184.9502\n",
      "Epoch 9/100\n",
      "23/23 - 0s - loss: 203.9124 - val_loss: 177.1698\n",
      "Epoch 10/100\n",
      "23/23 - 0s - loss: 195.3298 - val_loss: 170.7742\n",
      "Epoch 11/100\n",
      "23/23 - 0s - loss: 188.1966 - val_loss: 169.1989\n",
      "Epoch 12/100\n",
      "23/23 - 0s - loss: 182.7137 - val_loss: 162.5379\n",
      "Epoch 13/100\n",
      "23/23 - 0s - loss: 177.9124 - val_loss: 163.0826\n",
      "Epoch 14/100\n",
      "23/23 - 0s - loss: 173.4769 - val_loss: 162.3835\n",
      "Epoch 15/100\n",
      "23/23 - 0s - loss: 169.8593 - val_loss: 160.7004\n",
      "Epoch 16/100\n",
      "23/23 - 0s - loss: 167.3407 - val_loss: 161.2003\n",
      "Epoch 17/100\n",
      "23/23 - 0s - loss: 164.0963 - val_loss: 160.2820\n",
      "Epoch 18/100\n",
      "23/23 - 0s - loss: 161.0422 - val_loss: 158.1500\n",
      "Epoch 19/100\n",
      "23/23 - 0s - loss: 159.2332 - val_loss: 160.3121\n",
      "Epoch 20/100\n",
      "23/23 - 0s - loss: 156.5979 - val_loss: 160.1929\n",
      "Epoch 21/100\n",
      "23/23 - 0s - loss: 154.7335 - val_loss: 160.1447\n",
      "Epoch 22/100\n",
      "23/23 - 0s - loss: 152.8132 - val_loss: 160.4165\n",
      "Epoch 23/100\n",
      "23/23 - 0s - loss: 151.0544 - val_loss: 161.0297\n",
      "Epoch 24/100\n",
      "23/23 - 0s - loss: 150.3852 - val_loss: 162.2055\n",
      "Epoch 25/100\n",
      "23/23 - 0s - loss: 147.8089 - val_loss: 160.5681\n",
      "Epoch 26/100\n",
      "23/23 - 1s - loss: 146.1895 - val_loss: 162.4136\n",
      "Epoch 27/100\n",
      "23/23 - 0s - loss: 145.6048 - val_loss: 164.4007\n",
      "Epoch 28/100\n",
      "23/23 - 0s - loss: 143.2234 - val_loss: 164.1797\n",
      "Epoch 29/100\n",
      "23/23 - 0s - loss: 142.3544 - val_loss: 161.7188\n",
      "Epoch 30/100\n",
      "23/23 - 0s - loss: 140.3341 - val_loss: 164.2427\n",
      "Epoch 31/100\n",
      "23/23 - 0s - loss: 139.9513 - val_loss: 165.8891\n",
      "Epoch 32/100\n",
      "23/23 - 0s - loss: 137.4538 - val_loss: 163.1353\n",
      "Epoch 33/100\n",
      "23/23 - 0s - loss: 136.5788 - val_loss: 166.7844\n",
      "Epoch 34/100\n",
      "23/23 - 0s - loss: 135.0492 - val_loss: 164.7408\n",
      "Epoch 35/100\n",
      "23/23 - 0s - loss: 134.0201 - val_loss: 165.2711\n",
      "Epoch 36/100\n",
      "23/23 - 0s - loss: 132.5199 - val_loss: 165.3258\n",
      "Epoch 37/100\n",
      "23/23 - 0s - loss: 131.3936 - val_loss: 167.8585\n",
      "Epoch 38/100\n",
      "23/23 - 0s - loss: 129.4768 - val_loss: 165.6091\n",
      "Epoch 39/100\n",
      "23/23 - 0s - loss: 128.8263 - val_loss: 167.9529\n",
      "Epoch 40/100\n",
      "23/23 - 0s - loss: 126.8486 - val_loss: 168.3710\n",
      "Epoch 41/100\n",
      "23/23 - 0s - loss: 125.1643 - val_loss: 167.6822\n",
      "Epoch 42/100\n",
      "23/23 - 0s - loss: 123.6690 - val_loss: 165.9616\n",
      "Epoch 43/100\n",
      "23/23 - 0s - loss: 121.9546 - val_loss: 164.9604\n",
      "Epoch 44/100\n",
      "23/23 - 0s - loss: 119.8087 - val_loss: 167.2559\n",
      "Epoch 45/100\n",
      "23/23 - 0s - loss: 118.6380 - val_loss: 164.9519\n",
      "Epoch 46/100\n",
      "23/23 - 0s - loss: 116.9001 - val_loss: 168.7245\n",
      "Epoch 47/100\n",
      "23/23 - 0s - loss: 114.4750 - val_loss: 165.8487\n",
      "Epoch 48/100\n",
      "23/23 - 0s - loss: 113.1327 - val_loss: 167.2141\n",
      "Epoch 49/100\n",
      "23/23 - 0s - loss: 111.2751 - val_loss: 164.9591\n",
      "Epoch 50/100\n",
      "23/23 - 0s - loss: 109.1851 - val_loss: 171.2089\n",
      "Epoch 51/100\n",
      "23/23 - 0s - loss: 107.5855 - val_loss: 166.6631\n",
      "Epoch 52/100\n",
      "23/23 - 0s - loss: 105.0405 - val_loss: 168.2149\n",
      "Epoch 53/100\n",
      "23/23 - 0s - loss: 102.9067 - val_loss: 162.1553\n",
      "Epoch 54/100\n",
      "23/23 - 0s - loss: 100.1363 - val_loss: 168.6514\n",
      "Epoch 55/100\n",
      "23/23 - 0s - loss: 97.7744 - val_loss: 167.6902\n",
      "Epoch 56/100\n",
      "23/23 - 0s - loss: 95.7511 - val_loss: 167.9793\n",
      "Epoch 57/100\n",
      "23/23 - 0s - loss: 93.0970 - val_loss: 161.2796\n",
      "Epoch 58/100\n",
      "23/23 - 0s - loss: 91.0956 - val_loss: 171.3076\n",
      "Epoch 59/100\n",
      "23/23 - 0s - loss: 88.6100 - val_loss: 165.4086\n",
      "Epoch 60/100\n",
      "23/23 - 0s - loss: 86.2309 - val_loss: 162.2237\n",
      "Epoch 61/100\n",
      "23/23 - 0s - loss: 83.1507 - val_loss: 159.6978\n",
      "Epoch 62/100\n",
      "23/23 - 0s - loss: 80.9777 - val_loss: 163.0634\n",
      "Epoch 63/100\n",
      "23/23 - 0s - loss: 79.0884 - val_loss: 156.3258\n",
      "Epoch 64/100\n",
      "23/23 - 0s - loss: 77.7741 - val_loss: 156.5421\n",
      "Epoch 65/100\n",
      "23/23 - 0s - loss: 74.9940 - val_loss: 165.7159\n",
      "Epoch 66/100\n",
      "23/23 - 0s - loss: 72.6277 - val_loss: 154.7556\n",
      "Epoch 67/100\n",
      "23/23 - 0s - loss: 71.1691 - val_loss: 155.7412\n",
      "Epoch 68/100\n",
      "23/23 - 0s - loss: 69.4920 - val_loss: 159.4486\n",
      "Epoch 69/100\n",
      "23/23 - 0s - loss: 66.6237 - val_loss: 154.3428\n",
      "Epoch 70/100\n",
      "23/23 - 0s - loss: 64.9502 - val_loss: 153.2777\n",
      "Epoch 71/100\n",
      "23/23 - 0s - loss: 62.6710 - val_loss: 155.6042\n",
      "Epoch 72/100\n",
      "23/23 - 0s - loss: 61.6064 - val_loss: 152.5536\n",
      "Epoch 73/100\n",
      "23/23 - 0s - loss: 59.9216 - val_loss: 154.5710\n",
      "Epoch 74/100\n",
      "23/23 - 0s - loss: 58.7171 - val_loss: 147.5089\n",
      "Epoch 75/100\n",
      "23/23 - 0s - loss: 57.5171 - val_loss: 153.2153\n",
      "Epoch 76/100\n",
      "23/23 - 0s - loss: 55.4982 - val_loss: 142.1654\n",
      "Epoch 77/100\n",
      "23/23 - 0s - loss: 54.2819 - val_loss: 146.5904\n",
      "Epoch 78/100\n",
      "23/23 - 0s - loss: 53.1243 - val_loss: 135.8643\n",
      "Epoch 79/100\n",
      "23/23 - 0s - loss: 52.4731 - val_loss: 148.0860\n",
      "Epoch 80/100\n",
      "23/23 - 0s - loss: 50.5062 - val_loss: 139.4639\n",
      "Epoch 81/100\n",
      "23/23 - 0s - loss: 49.5576 - val_loss: 146.9060\n",
      "Epoch 82/100\n",
      "23/23 - 0s - loss: 48.5723 - val_loss: 132.9475\n",
      "Epoch 83/100\n",
      "23/23 - 0s - loss: 47.7400 - val_loss: 136.6754\n",
      "Epoch 84/100\n",
      "23/23 - 0s - loss: 46.6632 - val_loss: 136.1002\n",
      "Epoch 85/100\n",
      "23/23 - 0s - loss: 45.6975 - val_loss: 126.7575\n",
      "Epoch 86/100\n",
      "23/23 - 0s - loss: 44.9740 - val_loss: 130.3309\n",
      "Epoch 87/100\n",
      "23/23 - 0s - loss: 44.3901 - val_loss: 128.9000\n",
      "Epoch 88/100\n",
      "23/23 - 0s - loss: 43.5328 - val_loss: 133.7612\n",
      "Epoch 89/100\n",
      "23/23 - 0s - loss: 42.7125 - val_loss: 139.4694\n",
      "Epoch 90/100\n",
      "23/23 - 0s - loss: 41.9588 - val_loss: 132.6150\n",
      "Epoch 91/100\n",
      "23/23 - 0s - loss: 41.0394 - val_loss: 129.0771\n",
      "Epoch 92/100\n",
      "23/23 - 0s - loss: 39.9363 - val_loss: 127.5482\n",
      "Epoch 93/100\n",
      "23/23 - 0s - loss: 39.5463 - val_loss: 124.4340\n",
      "Epoch 94/100\n",
      "23/23 - 0s - loss: 38.8960 - val_loss: 132.0191\n",
      "Epoch 95/100\n",
      "23/23 - 0s - loss: 38.1504 - val_loss: 128.0776\n",
      "Epoch 96/100\n",
      "23/23 - 0s - loss: 36.9061 - val_loss: 125.0286\n",
      "Epoch 97/100\n",
      "23/23 - 0s - loss: 36.4260 - val_loss: 130.5281\n",
      "Epoch 98/100\n",
      "23/23 - 0s - loss: 35.9405 - val_loss: 123.1460\n",
      "Epoch 99/100\n",
      "23/23 - 0s - loss: 35.3837 - val_loss: 129.9990\n",
      "Epoch 100/100\n",
      "23/23 - 0s - loss: 35.1562 - val_loss: 125.5231\n"
     ]
    }
   ],
   "source": [
    "history = model.fit(predictors_norm, target, validation_split=0.3, epochs=100, verbose=2)"
   ]
  },
  {
   "cell_type": "markdown",
   "metadata": {},
   "source": [
    "now we can use 'predictions = model.predict(test_data)' for an unknow-target data"
   ]
  },
  {
   "cell_type": "code",
   "execution_count": 42,
   "metadata": {},
   "outputs": [
    {
     "name": "stdout",
     "output_type": "stream",
     "text": [
      "dict_keys(['loss', 'val_loss'])\n"
     ]
    },
    {
     "data": {
      "image/png": "[encoded data removed]",
      "text/plain": [
       "<Figure size 432x288 with 1 Axes>"
      ]
     },
     "metadata": {
      "needs_background": "light"
     },
     "output_type": "display_data"
    }
   ],
   "source": [
    "#I want to plot the output of this simple neural network:\n",
    "\n",
    "print(history.history.keys())\n",
    "\n",
    "# \"Loss\"\n",
    "plt.plot(history.history['loss'])\n",
    "plt.plot(history.history['val_loss'])\n",
    "plt.title('model loss')\n",
    "plt.ylabel('loss')\n",
    "plt.xlabel('epoch')\n",
    "plt.legend(['train', 'validation'], loc='upper left')\n",
    "plt.show()"
   ]
  }
 ],
 "metadata": {
  "kernelspec": {
   "display_name": "Python 3",
   "language": "python",
   "name": "python3"
  },
  "language_info": {
   "codemirror_mode": {
    "name": "ipython",
    "version": 3
   },
   "file_extension": ".py",
   "mimetype": "text/x-python",
   "name": "python",
   "nbconvert_exporter": "python",
   "pygments_lexer": "ipython3",
   "version": "3.8.5"
  }
 },
 "nbformat": 4,
 "nbformat_minor": 4
}
